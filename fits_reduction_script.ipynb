{
 "cells": [
  {
   "cell_type": "markdown",
   "metadata": {},
   "source": [
    "# Astronomical image reduction script"
   ]
  },
  {
   "cell_type": "markdown",
   "metadata": {},
   "source": [
    "### Section I: Import PyOphidia and connect to the server instance (update username and password)"
   ]
  },
  {
   "cell_type": "code",
   "execution_count": 27,
   "metadata": {
    "scrolled": true
   },
   "outputs": [
    {
     "name": "stdout",
     "output_type": "stream",
     "text": [
      "Current session is https://ophidialab.cmcc.it/ophidia/sessions/26705186011837982601505146861538005/experiment\n",
      "Current cwd is /\n",
      "The last produced cube is https://ophidialab.cmcc.it/ophidia/236/54912\n",
      "Done\n"
     ]
    }
   ],
   "source": [
    "from PyOphidia import cube, client\n",
    "import json\n",
    "username=\"*****\"\n",
    "password=\"*****\"\n",
    "cube.Cube.setclient(username,password,'ophidialab.cmcc.it','11732')\n",
    "print(\"Done\")"
   ]
  },
  {
   "cell_type": "markdown",
   "metadata": {},
   "source": [
    "### Section II: Import the FITS files into Ophidia"
   ]
  },
  {
   "cell_type": "code",
   "execution_count": 28,
   "metadata": {},
   "outputs": [
    {
     "name": "stdout",
     "output_type": "stream",
     "text": [
      "Done\n"
     ]
    }
   ],
   "source": [
    "cube.Cube.client.submit('oph_importfits src_path=[path=/data/INDIGO-FITS/fits-raw/;file=*.fits];measure=mymeasure;exec_mode=sync;exp_dim=NAXIS1;imp_dim=NAXIS2;import_metadata=yes;ndbms=1;ndb=1;nfrag=10;ncores=2;container=FITS2')\n",
    "print(\"Done\")"
   ]
  },
  {
   "cell_type": "markdown",
   "metadata": {},
   "source": [
    "####     Set the metadata values for the filter names (metadata key FLT_ID):"
   ]
  },
  {
   "cell_type": "code",
   "execution_count": 29,
   "metadata": {
    "collapsed": true
   },
   "outputs": [],
   "source": [
    "bias_flt = 'OPEN'\n",
    "flt_BJ10 = 'B_JOHN_10'\n",
    "flt_VJ11 = 'V_JOHN_11'\n",
    "flt_RJ12 = 'R_JOHN_12'\n",
    "print(\"Done\")"
   ]
  },
  {
   "cell_type": "markdown",
   "metadata": {},
   "source": [
    "#### Set the metadata values for the observation type (metadata key OBS_TYPE):"
   ]
  },
  {
   "cell_type": "code",
   "execution_count": 30,
   "metadata": {
    "collapsed": true
   },
   "outputs": [],
   "source": [
    "obst_flat = 'FLAT'\n",
    "obst_sci  = 'OBJECT'\n",
    "print(\"Done\")"
   ]
  },
  {
   "cell_type": "markdown",
   "metadata": {},
   "source": [
    "### Section III: Setup the median for all the bias files"
   ]
  },
  {
   "cell_type": "code",
   "execution_count": 31,
   "metadata": {},
   "outputs": [
    {
     "name": "stdout",
     "output_type": "stream",
     "text": [
      "Done\n"
     ]
    }
   ],
   "source": [
    "cube.Cube.search(metadata_key_filter='FLT_ID',metadata_value_filter=bias_flt,exec_mode='sync',display=False)\n",
    "data = json.loads(cube.Cube.client.last_response)\n",
    "mylist = ''\n",
    "if not data['response'][0]['objcontent'][0]['rowvalues']:\n",
    "                exit(\"ERROR: Datacube not found\")\n",
    "else:\n",
    "                for i in data['response'][0]['objcontent'][0]['rowvalues']:\n",
    "                        val = i[0]                        \n",
    "                        if (mylist!=''):\n",
    "                                mylist+='|'\n",
    "                        mylist+=i[0]\n",
    "                \n",
    "                cube1=cube.Cube.mergecubes2(cubes=mylist,ncores=2,description='OPEN_merged',container='FITS2',exec_mode='sync',dim='z')\n",
    "                cube11=cube1.reduce2(description='OPEN_reduced',operation='quantile',order=0.5,dim='z',ncores=2)\n",
    "print(\"Done\")"
   ]
  },
  {
   "cell_type": "markdown",
   "metadata": {},
   "source": [
    "### Section IV: Setup the median of the flat files having B_JOHN_10 filter"
   ]
  },
  {
   "cell_type": "code",
   "execution_count": 32,
   "metadata": {},
   "outputs": [
    {
     "name": "stdout",
     "output_type": "stream",
     "text": [
      "Done\n"
     ]
    }
   ],
   "source": [
    "cube.Cube.search(metadata_key_filter='FLT_ID',metadata_value_filter=flt_BJ10,exec_mode='sync',display=False)\n",
    "data1 = json.loads(cube.Cube.client.last_response)\n",
    "cube.Cube.search(metadata_key_filter='OBS_TYPE',metadata_value_filter=obst_flat,exec_mode='sync',display=False)\n",
    "data2 = json.loads(cube.Cube.client.last_response)\n",
    "mylist1 = ''\n",
    "list1=[]\n",
    "list2=[]\n",
    "if not data1['response'][0]['objcontent'][0]['rowvalues']:\n",
    "                exit(\"ERROR: Datacube not found\")\n",
    "else:\n",
    "                for i in data1['response'][0]['objcontent'][0]['rowvalues']:\n",
    "                        list1.append(i[0])\n",
    "                \n",
    "if not data2['response'][0]['objcontent'][0]['rowvalues']:\n",
    "                exit(\"ERROR: Datacube not found\")\n",
    "else:\n",
    "                for i in data2['response'][0]['objcontent'][0]['rowvalues']:\n",
    "                        list2.append(i[0])\n",
    "                \n",
    "for i in list(set(list1) & set(list2)):\n",
    "                if (mylist1!=''):\n",
    "                        mylist1+='|'\n",
    "                mylist1+=i\n",
    "print(\"Done\")                "
   ]
  },
  {
   "cell_type": "markdown",
   "metadata": {},
   "source": [
    "### Section V: Setup the median of the flat files having V_JOHN_11 filter"
   ]
  },
  {
   "cell_type": "code",
   "execution_count": 33,
   "metadata": {},
   "outputs": [
    {
     "name": "stdout",
     "output_type": "stream",
     "text": [
      "Done\n"
     ]
    }
   ],
   "source": [
    "cube.Cube.search(metadata_key_filter='FLT_ID',metadata_value_filter=flt_VJ11,exec_mode='sync',display=False)\n",
    "data1 = json.loads(cube.Cube.client.last_response)\n",
    "cube.Cube.search(metadata_key_filter='OBS_TYPE',metadata_value_filter=obst_flat,exec_mode='sync',display=False)\n",
    "data2 = json.loads(cube.Cube.client.last_response)\n",
    "mylist2 = ''\n",
    "list1=[]\n",
    "list2=[]\n",
    "if not data1['response'][0]['objcontent'][0]['rowvalues']:\n",
    "                exit(\"ERROR: Datacube not found\")\n",
    "else:\n",
    "                for i in data1['response'][0]['objcontent'][0]['rowvalues']:\n",
    "                        list1.append(i[0])\n",
    "if not data2['response'][0]['objcontent'][0]['rowvalues']:\n",
    "                exit(\"ERROR: Datacube not found\")\n",
    "else:\n",
    "                for i in data2['response'][0]['objcontent'][0]['rowvalues']:\n",
    "                        list2.append(i[0])\n",
    "for i in list(set(list1) & set(list2)):\n",
    "                if (mylist2!=''):\n",
    "                        mylist2+='|'\n",
    "                mylist2+=i\n",
    "print(\"Done\")"
   ]
  },
  {
   "cell_type": "markdown",
   "metadata": {},
   "source": [
    "### Section VI: Setup the median of the flat files having R_JOHN_12 filter"
   ]
  },
  {
   "cell_type": "code",
   "execution_count": 34,
   "metadata": {},
   "outputs": [
    {
     "name": "stdout",
     "output_type": "stream",
     "text": [
      "Done\n"
     ]
    }
   ],
   "source": [
    "cube.Cube.search(metadata_key_filter='FLT_ID',metadata_value_filter=flt_RJ12,exec_mode='sync',display=False)\n",
    "data1 = json.loads(cube.Cube.client.last_response)\n",
    "cube.Cube.search(metadata_key_filter='OBS_TYPE',metadata_value_filter=obst_flat,exec_mode='sync',display=False)\n",
    "data2 = json.loads(cube.Cube.client.last_response)\n",
    "mylist3 = ''\n",
    "list1=[]\n",
    "list2=[]\n",
    "if not data1['response'][0]['objcontent'][0]['rowvalues']:\n",
    "                exit(\"ERROR: Datacube not found\")\n",
    "else:\n",
    "                for i in data1['response'][0]['objcontent'][0]['rowvalues']:\n",
    "                        list1.append(i[0])\n",
    "if not data2['response'][0]['objcontent'][0]['rowvalues']:\n",
    "                exit(\"ERROR: Datacube not found\")\n",
    "else:\n",
    "                for i in data2['response'][0]['objcontent'][0]['rowvalues']:\n",
    "                        list2.append(i[0])\n",
    "for i in list(set(list1) & set(list2)):\n",
    "                if (mylist3!=''):\n",
    "                        mylist3+='|'\n",
    "                mylist3+=i\n",
    "print(\"Done\")"
   ]
  },
  {
   "cell_type": "markdown",
   "metadata": {},
   "source": [
    "### Section VII: Setup the median of the science images having B_JOHN_10 filter"
   ]
  },
  {
   "cell_type": "code",
   "execution_count": 35,
   "metadata": {},
   "outputs": [
    {
     "name": "stdout",
     "output_type": "stream",
     "text": [
      "Done\n"
     ]
    }
   ],
   "source": [
    "cube.Cube.search(metadata_key_filter='FLT_ID',metadata_value_filter=flt_BJ10,exec_mode='sync',display=False)\n",
    "data1 = json.loads(cube.Cube.client.last_response)\n",
    "cube.Cube.search(metadata_key_filter='OBS_TYPE',metadata_value_filter=obst_sci,exec_mode='sync',display=False)\n",
    "data2 = json.loads(cube.Cube.client.last_response)\n",
    "mylist4 = ''\n",
    "list1=[]\n",
    "list2=[]\n",
    "if not data1['response'][0]['objcontent'][0]['rowvalues']:\n",
    "                exit(\"ERROR: Datacube not found\")\n",
    "else:\n",
    "                for i in data1['response'][0]['objcontent'][0]['rowvalues']:\n",
    "                        list1.append(i[0])\n",
    "if not data2['response'][0]['objcontent'][0]['rowvalues']:\n",
    "                exit(\"ERROR: Datacube not found\")\n",
    "else:\n",
    "                for i in data2['response'][0]['objcontent'][0]['rowvalues']:\n",
    "                        list2.append(i[0])\n",
    "for i in list(set(list1) & set(list2)):\n",
    "                if (mylist4!=''):\n",
    "                        mylist4+='|'\n",
    "                mylist4+=i\n",
    "print(\"Done\")"
   ]
  },
  {
   "cell_type": "markdown",
   "metadata": {},
   "source": [
    "### Section VIII: Setup of the median of the science images having V_JOHN_11 filter"
   ]
  },
  {
   "cell_type": "code",
   "execution_count": 36,
   "metadata": {},
   "outputs": [
    {
     "name": "stdout",
     "output_type": "stream",
     "text": [
      "Done\n"
     ]
    }
   ],
   "source": [
    "cube.Cube.search(metadata_key_filter='FLT_ID',metadata_value_filter=flt_VJ11,exec_mode='sync',display=False)\n",
    "data1 = json.loads(cube.Cube.client.last_response)\n",
    "cube.Cube.search(metadata_key_filter='OBS_TYPE',metadata_value_filter=obst_sci,exec_mode='sync',display=False)\n",
    "data2 = json.loads(cube.Cube.client.last_response)\n",
    "mylist5 = ''\n",
    "list1=[]\n",
    "list2=[]\n",
    "if not data1['response'][0]['objcontent'][0]['rowvalues']:\n",
    "                exit(\"ERROR: Datacube not found\")\n",
    "else:\n",
    "                for i in data1['response'][0]['objcontent'][0]['rowvalues']:\n",
    "                        list1.append(i[0])\n",
    "if not data2['response'][0]['objcontent'][0]['rowvalues']:\n",
    "                exit(\"ERROR: Datacube not found\")\n",
    "else:\n",
    "                for i in data2['response'][0]['objcontent'][0]['rowvalues']:\n",
    "                        list2.append(i[0])\n",
    "for i in list(set(list1) & set(list2)):\n",
    "                if (mylist5!=''):\n",
    "                        mylist5+='|'\n",
    "                mylist5+=i\n",
    "print(\"Done\")"
   ]
  },
  {
   "cell_type": "markdown",
   "metadata": {},
   "source": [
    "### Section IX: Setup of the median of the science images having R_JOHN_12 filter"
   ]
  },
  {
   "cell_type": "code",
   "execution_count": 37,
   "metadata": {},
   "outputs": [
    {
     "name": "stdout",
     "output_type": "stream",
     "text": [
      "Done\n"
     ]
    }
   ],
   "source": [
    "cube.Cube.search(metadata_key_filter='FLT_ID',metadata_value_filter=flt_RJ12,exec_mode='sync',display=False)\n",
    "data1 = json.loads(cube.Cube.client.last_response)\n",
    "cube.Cube.search(metadata_key_filter='OBS_TYPE',metadata_value_filter=obst_sci,exec_mode='sync',display=False)\n",
    "data2 = json.loads(cube.Cube.client.last_response)\n",
    "mylist6 = ''\n",
    "list1=[]\n",
    "list2=[]\n",
    "if not data1['response'][0]['objcontent'][0]['rowvalues']:\n",
    "                exit(\"ERROR: Datacube not found\")\n",
    "else:\n",
    "                for i in data1['response'][0]['objcontent'][0]['rowvalues']:\n",
    "                        list1.append(i[0])\n",
    "if not data2['response'][0]['objcontent'][0]['rowvalues']:\n",
    "                exit(\"ERROR: Datacube not found\")\n",
    "else:\n",
    "                for i in data2['response'][0]['objcontent'][0]['rowvalues']:\n",
    "                        list2.append(i[0])\n",
    "for i in list(set(list1) & set(list2)):\n",
    "                if (mylist6!=''):\n",
    "                        mylist6+='|'\n",
    "                mylist6+=i\n",
    "print(\"Done\")"
   ]
  },
  {
   "cell_type": "markdown",
   "metadata": {},
   "source": [
    "### Section X: Merge the flat images and calculate the median"
   ]
  },
  {
   "cell_type": "code",
   "execution_count": 38,
   "metadata": {},
   "outputs": [
    {
     "name": "stdout",
     "output_type": "stream",
     "text": [
      "Done\n"
     ]
    }
   ],
   "source": [
    "cube2=cube.Cube.mergecubes2(cubes=mylist1,ncores=2,description='B_John_10_merged',container='FITS2',exec_mode='sync',dim='z')\n",
    "cube22=cube2.reduce2(description='B_JOHN_10_reduced',operation='quantile',order=0.5,dim='z',ncores=2)\n",
    "cube3=cube.Cube.mergecubes2(cubes=mylist2,ncores=2,description='V_John_11_merged',container='FITS2',exec_mode='sync',dim='z')\n",
    "cube33=cube3.reduce2(description='V_JOHN_11_reduced',operation='quantile',order=0.5,dim='z',ncores=2)\n",
    "cube4=cube.Cube.mergecubes2(cubes=mylist3,ncores=2,description='R_John_12_merged',container='FITS2',exec_mode='sync',dim='z')\n",
    "cube44=cube4.reduce2(description='R_JOHN_12_reduced',operation='quantile',order=0.5,dim='z',ncores=2)\n",
    "print(\"Done\")"
   ]
  },
  {
   "cell_type": "markdown",
   "metadata": {},
   "source": [
    "### Section XI: Merge the science images and calculate the median"
   ]
  },
  {
   "cell_type": "code",
   "execution_count": 39,
   "metadata": {},
   "outputs": [
    {
     "name": "stdout",
     "output_type": "stream",
     "text": [
      "Done\n"
     ]
    }
   ],
   "source": [
    "cube5=cube.Cube.mergecubes2(cubes=mylist4,ncores=2,description='B_John_10_science_merged',container='FITS2',exec_mode='sync',dim='z')\n",
    "cube55=cube5.reduce2(description='B_JOHN_10_science_reduced',operation='quantile',order=0.5,dim='z',ncores=2)\n",
    "cube6=cube.Cube.mergecubes2(cubes=mylist5,ncores=2,description='V_John_11_science_merged',container='FITS2',exec_mode='sync',dim='z')\n",
    "cube66=cube6.reduce2(description='V_JOHN_11_science_reduced',operation='quantile',order=0.5,dim='z',ncores=2)\n",
    "cube7=cube.Cube.mergecubes2(cubes=mylist6,ncores=2,description='R_John_12_science_merged',container='FITS2',exec_mode='sync',dim='z')\n",
    "cube77=cube7.reduce2(description='R_JOHN_12_science_reduced',operation='quantile',order=0.5,dim='z',ncores=2)\n",
    "print(\"Done\")"
   ]
  },
  {
   "cell_type": "markdown",
   "metadata": {},
   "source": [
    "### Section XII: Science - Bias"
   ]
  },
  {
   "cell_type": "code",
   "execution_count": 40,
   "metadata": {},
   "outputs": [
    {
     "name": "stdout",
     "output_type": "stream",
     "text": [
      "Done\n"
     ]
    }
   ],
   "source": [
    "cube8 = cube55.intercube(cube2=cube11.pid,ncores=2,description='science_minus_bias1',container='FITS2',exec_mode='sync',operation='sub')\n",
    "cube9 = cube66.intercube(cube2=cube11.pid,ncores=2,description='science_minus_bias2',container='FITS2',exec_mode='sync',operation='sub')\n",
    "cube10 = cube77.intercube(cube2=cube11.pid,ncores=2,description='science_minus_bias3',container='FITS2',exec_mode='sync',operation='sub')\n",
    "print(\"Done\")"
   ]
  },
  {
   "cell_type": "markdown",
   "metadata": {},
   "source": [
    "### Section XIII: Flat - Bias"
   ]
  },
  {
   "cell_type": "code",
   "execution_count": 41,
   "metadata": {},
   "outputs": [
    {
     "name": "stdout",
     "output_type": "stream",
     "text": [
      "Done\n"
     ]
    }
   ],
   "source": [
    "cube11 = cube22.intercube(cube2=cube11.pid,ncores=2,description='flat_minus_bias1',container='FITS2',exec_mode='sync',operation='sub')\n",
    "cube12 = cube33.intercube(cube2=cube11.pid,ncores=2,description='flat_minus_bias2',container='FITS2',exec_mode='sync',operation='sub')\n",
    "cube13 = cube44.intercube(cube2=cube11.pid,ncores=2,description='flat_minus_bias3',container='FITS2',exec_mode='sync',operation='sub')\n",
    "print(\"Done\")"
   ]
  },
  {
   "cell_type": "markdown",
   "metadata": {},
   "source": [
    "### Section XIV: Science / Flat"
   ]
  },
  {
   "cell_type": "code",
   "execution_count": 42,
   "metadata": {},
   "outputs": [
    {
     "name": "stdout",
     "output_type": "stream",
     "text": [
      "Done\n"
     ]
    }
   ],
   "source": [
    "cube14 = cube8.intercube(cube2=cube11.pid,ncores=2,description='science_div_flat1',container='FITS2',exec_mode='sync',operation='div')\n",
    "cube15 = cube9.intercube(cube2=cube12.pid,ncores=2,description='science_div_flat2',container='FITS2',exec_mode='sync',operation='div')\n",
    "cube16 = cube10.intercube(cube2=cube13.pid,ncores=2,description='science_div_flat3',container='FITS2',exec_mode='sync',operation='div')\n",
    "print(\"Done\")"
   ]
  },
  {
   "cell_type": "markdown",
   "metadata": {},
   "source": [
    "### Section XV: Write the final output to a new FITS file"
   ]
  },
  {
   "cell_type": "code",
   "execution_count": 43,
   "metadata": {},
   "outputs": [
    {
     "name": "stdout",
     "output_type": "stream",
     "text": [
      "Done\n"
     ]
    }
   ],
   "source": [
    "cube.Cube.client.submit('oph_exportfits export_metadata=no;force=yes;output_name=final_file;output_path=/home/*****/;ncores=1')\n",
    "print(\"Done\")"
   ]
  },
  {
   "cell_type": "code",
   "execution_count": null,
   "metadata": {
    "collapsed": true
   },
   "outputs": [],
   "source": []
  }
 ],
 "metadata": {
  "kernelspec": {
   "display_name": "Python 3",
   "language": "python",
   "name": "python3"
  },
  "language_info": {
   "codemirror_mode": {
    "name": "ipython",
    "version": 3
   },
   "file_extension": ".py",
   "mimetype": "text/x-python",
   "name": "python",
   "nbconvert_exporter": "python",
   "pygments_lexer": "ipython3",
   "version": "3.4.5"
  }
 },
 "nbformat": 4,
 "nbformat_minor": 2
}
